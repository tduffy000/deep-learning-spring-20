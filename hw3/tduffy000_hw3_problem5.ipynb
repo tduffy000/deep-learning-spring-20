{
 "cells": [
  {
   "cell_type": "markdown",
   "metadata": {},
   "source": [
    "Download the Common Objects in Context dataset (aka COCO): http://cocodataset.org/#home You’ll be carrying out the instance annotation task. See the jupyter notebook here for context: https://github.com/cocodataset/cocoapi/blob/master/PythonAPI/pycocoDemo.ipynb\n",
    "\n",
    "Your goal is to pick out the object in the image.\n",
    "\n",
    "    Read the data into memory\n",
    "    Generate a label set from the list or annotations, remember to choose the instance annotations!\n",
    "    Next make use of yolo to predict on the test set. This tutorial might be helpful: https://machinelearningmastery.com/how-to-perform-object-detection-with-yolov3-in-keras/ You’ll need to take this tutorial and then fit it to a generic object detection context. The tensorflow docs may be helpful as well: https://github.com/tensorflow/models/tree/master/research/object_detection Please report your metrics for the test set. You should make use of these metrics: https://github.com/rafaelpadilla/Object-Detection-Metrics here is an implementation: https://github.com/Cartucho/mAP\n",
    "    Next make use of Mask R-CNN to do object detection. Please follow this tutorial: https://machinelearningmastery.com/how-to-train-an-object-detection-model-with-keras/ remember again, you’ll need to generalize to finding any object. Please report out your metrics as you did before.\n",
    "    Compare and contrast YOLO and Mask R-CNN, which did better? How did you decide that? Does one model or the other do better on different kinds of labels? If so, why do you think?\n",
    "    Now try OctConv: https://github.com/titu1994/keras-octconv, please report your metrics as in the last two examples. Which one does the best?\n"
   ]
  }
 ],
 "metadata": {
  "kernelspec": {
   "display_name": "Python 3",
   "language": "python",
   "name": "python3"
  },
  "language_info": {
   "codemirror_mode": {
    "name": "ipython",
    "version": 3
   },
   "file_extension": ".py",
   "mimetype": "text/x-python",
   "name": "python",
   "nbconvert_exporter": "python",
   "pygments_lexer": "ipython3",
   "version": "3.6.9"
  }
 },
 "nbformat": 4,
 "nbformat_minor": 2
}

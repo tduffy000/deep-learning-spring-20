{
 "cells": [
  {
   "cell_type": "markdown",
   "metadata": {},
   "source": [
    "In this assignment we will look at a typical image based machine learning task.\n",
    "\n",
    "`@author: Thomas Duffy`\n",
    "\n",
    "## Image classification \n",
    "\n",
    "For this task the whole image is used to classify what's happening.\n",
    "\n",
    "For this specific task, we will be trying to classify COVID-19 using pneumonia x-rays.  Please note, the literature has mostly suggested CT scans are not an effective way of figuring out what type of disease you have.  This exercise is for academic purposes _only_.\n",
    "\n",
    "Steps:\n",
    "\n",
    "\n",
    "1. Download the pneumonia data.  \n",
    "\n",
    "    You can find it [here](https://www.kaggle.com/paultimothymooney/chest-xray-pneumonia). Move the folder to this directory and unzip it.  Please don't change any folder names or the below script will not work.  Also make sure the folder is in the same directory as this notebook!\n",
    "\n",
    "2. load the pneumonia data into a dataframe:"
   ]
  },
  {
   "cell_type": "code",
   "execution_count": 1,
   "metadata": {},
   "outputs": [],
   "source": [
    "import numpy as np\n",
    "import glob\n",
    "from PIL import Image\n",
    "import matplotlib.pyplot as plt\n",
    "import random\n",
    "import tensorflow as tf\n",
    "import skimage.transform\n",
    "import skimage.color"
   ]
  },
  {
   "cell_type": "code",
   "execution_count": 2,
   "metadata": {},
   "outputs": [
    {
     "data": {
      "text/plain": [
       "'2.1.0'"
      ]
     },
     "execution_count": 2,
     "metadata": {},
     "output_type": "execute_result"
    }
   ],
   "source": [
    "tf.__version__"
   ]
  },
  {
   "cell_type": "code",
   "execution_count": 3,
   "metadata": {},
   "outputs": [
    {
     "data": {
      "text/plain": [
       "'2.2.4-tf'"
      ]
     },
     "execution_count": 3,
     "metadata": {},
     "output_type": "execute_result"
    }
   ],
   "source": [
    "tf.keras.__version__"
   ]
  },
  {
   "cell_type": "code",
   "execution_count": 4,
   "metadata": {},
   "outputs": [],
   "source": [
    "def load_training_data():\n",
    "    paths = [\n",
    "        \"chest_xray/train/NORMAL/*\",\n",
    "        \"chest_xray/train/PNEUMONIA/*\"\n",
    "    ]\n",
    "    labels = []\n",
    "    image_paths = []\n",
    "    for path in paths:\n",
    "        for im_path in glob.glob(path):\n",
    "            if path == \"chest_xray/train/NORMAL/*\":\n",
    "                labels.append(\"NORMAL\")\n",
    "            if path == \"chest_xray/train/PNEUMONIA/*\":\n",
    "                labels.append(\"PNEUMONIA\")\n",
    "            image_paths.append(im_path)\n",
    "    return image_paths, labels\n",
    "\n",
    "def load_testing_data():\n",
    "    paths = [\n",
    "        \"chest_xray/test/NORMAL/*\",\n",
    "        \"chest_xray/test/PNEUMONIA/*\"\n",
    "    ]\n",
    "    labels = []\n",
    "    image_paths = []\n",
    "    for path in paths:\n",
    "        for im_path in glob.glob(path):\n",
    "            if path == \"chest_xray/test/NORMAL/*\":\n",
    "                labels.append(\"NORMAL\")\n",
    "            if path == \"chest_xray/test/PNEUMONIA/*\":\n",
    "                labels.append(\"PNEUMONIA\")\n",
    "            image_paths.append(im_path)\n",
    "    return image_paths, labels"
   ]
  },
  {
   "cell_type": "code",
   "execution_count": 5,
   "metadata": {},
   "outputs": [],
   "source": [
    "train_paths, train_labels = load_training_data()\n",
    "test_paths, test_labels = load_testing_data()"
   ]
  },
  {
   "cell_type": "markdown",
   "metadata": {},
   "source": [
    "3. read the data into memory, I recommend open-cv for this:\n",
    "\n",
    "`python -m pip install opencv-python` \n",
    "\n",
    "if you don't already have it!\n",
    "\n",
    "4. resize the images to a standard size - \n",
    "\n",
    "Note: it ought to be a box.  So the width and height should be the same size."
   ]
  },
  {
   "cell_type": "code",
   "execution_count": 6,
   "metadata": {},
   "outputs": [],
   "source": [
    "def get_image_features(image_paths, shape):\n",
    "    height, width, channels = shape\n",
    "    array = np.zeros((len(image_paths), height, width, channels))\n",
    "    for i, path in enumerate(image_paths):\n",
    "        im = Image.open(path)\n",
    "        as_array = np.asarray(im)\n",
    "        if len(as_array.shape) == 2: # convert to 3 channels (required input to VGG)\n",
    "            as_array = skimage.color.gray2rgb(as_array)\n",
    "        resized = skimage.transform.resize(as_array, shape)\n",
    "        array[i,:,:] = resized\n",
    "        if (i + 1) % 500 == 0:\n",
    "            print(f'Finished loading {i+1} samples')\n",
    "    return array"
   ]
  },
  {
   "cell_type": "markdown",
   "metadata": {},
   "source": [
    "Next you'll need to do the same for the labels:\n",
    "\n",
    "Note: You'll need to apply the `to_categorical` function after transforming to a numpy array"
   ]
  },
  {
   "cell_type": "code",
   "execution_count": 7,
   "metadata": {},
   "outputs": [
    {
     "data": {
      "text/plain": [
       "{'NORMAL': 0, 'PNEUMONIA': 1}"
      ]
     },
     "execution_count": 7,
     "metadata": {},
     "output_type": "execute_result"
    }
   ],
   "source": [
    "categorical_mapping = { label: i for i, label in enumerate(set(train_labels)) }\n",
    "categorical_mapping"
   ]
  },
  {
   "cell_type": "code",
   "execution_count": 8,
   "metadata": {},
   "outputs": [],
   "source": [
    "def labels_to_np_array(labels, mapping):\n",
    "    return np.array([mapping[label] for label in labels])"
   ]
  },
  {
   "cell_type": "markdown",
   "metadata": {},
   "source": [
    "7. Seperate into train and test with `train_test_split` from scikit-learn"
   ]
  },
  {
   "cell_type": "code",
   "execution_count": 9,
   "metadata": {},
   "outputs": [
    {
     "data": {
      "text/plain": [
       "5216"
      ]
     },
     "execution_count": 9,
     "metadata": {},
     "output_type": "execute_result"
    }
   ],
   "source": [
    "# how many training samples should we get?\n",
    "len(train_paths)"
   ]
  },
  {
   "cell_type": "code",
   "execution_count": 10,
   "metadata": {},
   "outputs": [],
   "source": [
    "IMAGE_SHAPE = (128, 128, 3)"
   ]
  },
  {
   "cell_type": "code",
   "execution_count": 11,
   "metadata": {},
   "outputs": [
    {
     "name": "stdout",
     "output_type": "stream",
     "text": [
      "Finished loading 500 samples\n",
      "Finished loading 1000 samples\n",
      "Finished loading 1500 samples\n",
      "Finished loading 2000 samples\n",
      "Finished loading 2500 samples\n",
      "Finished loading 3000 samples\n",
      "Finished loading 3500 samples\n",
      "Finished loading 4000 samples\n",
      "Finished loading 4500 samples\n",
      "Finished loading 5000 samples\n"
     ]
    }
   ],
   "source": [
    "full_training_X = get_image_features(train_paths, IMAGE_SHAPE)\n",
    "full_training_y = labels_to_np_array(train_labels, categorical_mapping)"
   ]
  },
  {
   "cell_type": "code",
   "execution_count": 12,
   "metadata": {},
   "outputs": [
    {
     "data": {
      "text/plain": [
       "(5216, 128, 128, 3)"
      ]
     },
     "execution_count": 12,
     "metadata": {},
     "output_type": "execute_result"
    }
   ],
   "source": [
    "full_training_X.shape"
   ]
  },
  {
   "cell_type": "code",
   "execution_count": 13,
   "metadata": {},
   "outputs": [
    {
     "data": {
      "text/plain": [
       "True"
      ]
     },
     "execution_count": 13,
     "metadata": {},
     "output_type": "execute_result"
    }
   ],
   "source": [
    "full_training_X.shape[0] == full_training_y.shape[0]"
   ]
  },
  {
   "cell_type": "code",
   "execution_count": 14,
   "metadata": {},
   "outputs": [],
   "source": [
    "SEED = 42"
   ]
  },
  {
   "cell_type": "code",
   "execution_count": 15,
   "metadata": {},
   "outputs": [],
   "source": [
    "from sklearn.model_selection import train_test_split\n",
    "\n",
    "TEST_SET_SIZE = .2\n",
    "\n",
    "X_train, X_test, y_train, y_test = train_test_split(\n",
    "    full_training_X, full_training_y, test_size=TEST_SET_SIZE, random_state=SEED\n",
    ")"
   ]
  },
  {
   "cell_type": "code",
   "execution_count": 16,
   "metadata": {},
   "outputs": [
    {
     "data": {
      "image/png": "[encoded data removed]",
      "text/plain": [
       "<Figure size 432x288 with 1 Axes>"
      ]
     },
     "metadata": {
      "needs_background": "light"
     },
     "output_type": "display_data"
    }
   ],
   "source": [
    "# sanity check, what does one image look like?\n",
    "_ = plt.imshow(X_train[2])"
   ]
  },
  {
   "cell_type": "code",
   "execution_count": null,
   "metadata": {},
   "outputs": [],
   "source": [
    "# what's the class proportion?\n"
   ]
  },
  {
   "cell_type": "markdown",
   "metadata": {},
   "source": [
    "8. Make the last four layers of VGG16 with imagenet weights trainable and then retrain the model.\n",
    "\n",
    "To understand how to do this, please see the following tutorial:\n",
    "\n",
    "https://www.learnopencv.com/keras-tutorial-fine-tuning-using-pre-trained-models/"
   ]
  },
  {
   "cell_type": "code",
   "execution_count": 25,
   "metadata": {},
   "outputs": [],
   "source": [
    "tf.keras.backend.clear_session()"
   ]
  },
  {
   "cell_type": "code",
   "execution_count": 26,
   "metadata": {},
   "outputs": [],
   "source": [
    "vgg_conv = tf.keras.applications.VGG16(weights='imagenet', include_top=False, input_shape=IMAGE_SHAPE)"
   ]
  },
  {
   "cell_type": "code",
   "execution_count": 27,
   "metadata": {},
   "outputs": [
    {
     "name": "stdout",
     "output_type": "stream",
     "text": [
      "Is InputLayer traininable? False\n",
      "Is Conv2D traininable? False\n",
      "Is Conv2D traininable? False\n",
      "Is MaxPooling2D traininable? False\n",
      "Is Conv2D traininable? False\n",
      "Is Conv2D traininable? False\n",
      "Is MaxPooling2D traininable? False\n",
      "Is Conv2D traininable? False\n",
      "Is Conv2D traininable? False\n",
      "Is Conv2D traininable? False\n",
      "Is MaxPooling2D traininable? False\n",
      "Is Conv2D traininable? False\n",
      "Is Conv2D traininable? False\n",
      "Is Conv2D traininable? False\n",
      "Is MaxPooling2D traininable? False\n",
      "Is Conv2D traininable? True\n",
      "Is Conv2D traininable? True\n",
      "Is Conv2D traininable? True\n",
      "Is MaxPooling2D traininable? True\n"
     ]
    }
   ],
   "source": [
    "for layer in vgg_conv.layers[:-4]:\n",
    "    layer.trainable = False\n",
    "for layer in vgg_conv.layers:\n",
    "    print(f'Is {layer.__class__.__name__} traininable? {layer.trainable}')"
   ]
  },
  {
   "cell_type": "code",
   "execution_count": 28,
   "metadata": {},
   "outputs": [
    {
     "name": "stdout",
     "output_type": "stream",
     "text": [
      "Model: \"sequential\"\n",
      "_________________________________________________________________\n",
      "Layer (type)                 Output Shape              Param #   \n",
      "=================================================================\n",
      "vgg16 (Model)                (None, 4, 4, 512)         14714688  \n",
      "_________________________________________________________________\n",
      "flatten (Flatten)            (None, 8192)              0         \n",
      "_________________________________________________________________\n",
      "dense (Dense)                (None, 1024)              8389632   \n",
      "_________________________________________________________________\n",
      "dropout (Dropout)            (None, 1024)              0         \n",
      "_________________________________________________________________\n",
      "dense_1 (Dense)              (None, 2)                 2050      \n",
      "=================================================================\n",
      "Total params: 23,106,370\n",
      "Trainable params: 15,471,106\n",
      "Non-trainable params: 7,635,264\n",
      "_________________________________________________________________\n"
     ]
    }
   ],
   "source": [
    "model = tf.keras.models.Sequential()\n",
    "\n",
    "model.add(vgg_conv)\n",
    "\n",
    "model.add(tf.keras.layers.Flatten())\n",
    "model.add(tf.keras.layers.Dense(1024, activation='relu'))\n",
    "model.add(tf.keras.layers.Dropout(0.5))\n",
    "model.add(tf.keras.layers.Dense(2, activation='softmax'))\n",
    "\n",
    "model.summary()"
   ]
  },
  {
   "cell_type": "code",
   "execution_count": 30,
   "metadata": {},
   "outputs": [],
   "source": [
    "model.compile('adam', loss='sparse_categorical_crossentropy', metrics=['accuracy'])"
   ]
  },
  {
   "cell_type": "code",
   "execution_count": 31,
   "metadata": {},
   "outputs": [],
   "source": [
    "EPOCHS, BATCH_SIZE = 5, 32"
   ]
  },
  {
   "cell_type": "code",
   "execution_count": 32,
   "metadata": {},
   "outputs": [
    {
     "name": "stdout",
     "output_type": "stream",
     "text": [
      "Train on 3337 samples, validate on 835 samples\n",
      "Epoch 1/5\n",
      "3337/3337 [==============================] - 251s 75ms/sample - loss: 0.4149 - accuracy: 0.8421 - val_loss: 0.1064 - val_accuracy: 0.9617\n",
      "Epoch 2/5\n",
      "3337/3337 [==============================] - 263s 79ms/sample - loss: 0.1003 - accuracy: 0.9670 - val_loss: 0.0676 - val_accuracy: 0.9737\n",
      "Epoch 3/5\n",
      "3337/3337 [==============================] - 257s 77ms/sample - loss: 0.0539 - accuracy: 0.9808 - val_loss: 0.2894 - val_accuracy: 0.8970\n",
      "Epoch 4/5\n",
      "3337/3337 [==============================] - 256s 77ms/sample - loss: 0.0429 - accuracy: 0.9838 - val_loss: 0.1013 - val_accuracy: 0.9701\n",
      "Epoch 5/5\n",
      "3337/3337 [==============================] - 257s 77ms/sample - loss: 0.0280 - accuracy: 0.9892 - val_loss: 0.0870 - val_accuracy: 0.9749\n"
     ]
    },
    {
     "data": {
      "text/plain": [
       "<tensorflow.python.keras.callbacks.History at 0x7f681ab44090>"
      ]
     },
     "execution_count": 32,
     "metadata": {},
     "output_type": "execute_result"
    }
   ],
   "source": [
    "model.fit(X_train, y_train, epochs=EPOCHS, batch_size=BATCH_SIZE, validation_split=0.2)"
   ]
  },
  {
   "cell_type": "markdown",
   "metadata": {},
   "source": [
    "8. Check your score with classification_report from scikit-learn\n",
    "\n",
    "Now that you've trained your model, call `model.predict` to get the predicted values for classification.  \n",
    "Then compare your predicted values with y_test"
   ]
  },
  {
   "cell_type": "code",
   "execution_count": 33,
   "metadata": {},
   "outputs": [
    {
     "name": "stdout",
     "output_type": "stream",
     "text": [
      "              precision    recall  f1-score   support\n",
      "\n",
      "           0       0.98      0.93      0.96       287\n",
      "           1       0.98      0.99      0.98       757\n",
      "\n",
      "    accuracy                           0.98      1044\n",
      "   macro avg       0.98      0.96      0.97      1044\n",
      "weighted avg       0.98      0.98      0.98      1044\n",
      "\n"
     ]
    }
   ],
   "source": [
    "from sklearn.metrics import classification_report\n",
    "\n",
    "y_pred = model.predict_classes(X_test)\n",
    "print(classification_report(y_test, y_pred))"
   ]
  },
  {
   "cell_type": "markdown",
   "metadata": {},
   "source": [
    "9. Data augmentation\n",
    "\n",
    "Now that you have a classifier, let's see if data augmentation improves things!  \n",
    "\n",
    "You can use the `ImageDataGenerator` that comes with keras.  Here's how to import it:\n",
    "\n",
    "`from tensorflow.keras.preprocessing.image import ImageDataGenerator`\n",
    "\n",
    "Here's the documentation: https://keras.io/preprocessing/image/\n",
    "\n",
    "Here's an example of it getting used in the wild, in case you get stuck:\n",
    "\n",
    "https://www.pyimagesearch.com/2020/03/16/detecting-covid-19-in-x-ray-images-with-keras-tensorflow-and-deep-learning/"
   ]
  },
  {
   "cell_type": "code",
   "execution_count": 35,
   "metadata": {},
   "outputs": [],
   "source": [
    "train_gen = tf.keras.preprocessing.image.ImageDataGenerator(\n",
    "    featurewise_center=True,\n",
    "    featurewise_std_normalization=True,\n",
    "    rotation_range=25,\n",
    "    width_shift_range=0.2,\n",
    "    height_shift_range=0.2,\n",
    "    horizontal_flip=True,\n",
    "    zoom_range=0.2,\n",
    "    validation_split=0.2\n",
    ")\n",
    "\n",
    "train_gen.fit(X_train)"
   ]
  },
  {
   "cell_type": "markdown",
   "metadata": {},
   "source": [
    "10. retrain your classifier\n",
    "\n",
    "Now that you have augmented training data, please retrain your classifier.  The code should basically be the same."
   ]
  },
  {
   "cell_type": "code",
   "execution_count": 36,
   "metadata": {},
   "outputs": [
    {
     "name": "stdout",
     "output_type": "stream",
     "text": [
      "Model: \"sequential_1\"\n",
      "_________________________________________________________________\n",
      "Layer (type)                 Output Shape              Param #   \n",
      "=================================================================\n",
      "vgg16 (Model)                (None, 4, 4, 512)         14714688  \n",
      "_________________________________________________________________\n",
      "flatten_1 (Flatten)          (None, 8192)              0         \n",
      "_________________________________________________________________\n",
      "dense_2 (Dense)              (None, 1024)              8389632   \n",
      "_________________________________________________________________\n",
      "dropout_1 (Dropout)          (None, 1024)              0         \n",
      "_________________________________________________________________\n",
      "dense_3 (Dense)              (None, 2)                 2050      \n",
      "=================================================================\n",
      "Total params: 23,106,370\n",
      "Trainable params: 15,471,106\n",
      "Non-trainable params: 7,635,264\n",
      "_________________________________________________________________\n"
     ]
    }
   ],
   "source": [
    "augmented_model = tf.keras.models.Sequential()\n",
    "\n",
    "augmented_model.add(vgg_conv)\n",
    "\n",
    "augmented_model.add(tf.keras.layers.Flatten())\n",
    "augmented_model.add(tf.keras.layers.Dense(1024, activation='relu'))\n",
    "augmented_model.add(tf.keras.layers.Dropout(0.5))\n",
    "augmented_model.add(tf.keras.layers.Dense(2, activation='softmax'))\n",
    "\n",
    "augmented_model.summary()"
   ]
  },
  {
   "cell_type": "code",
   "execution_count": 37,
   "metadata": {},
   "outputs": [],
   "source": [
    "augmented_model.compile('adam', loss='categorical_crossentropy', metrics=['accuracy'])"
   ]
  },
  {
   "cell_type": "code",
   "execution_count": 42,
   "metadata": {},
   "outputs": [
    {
     "name": "stdout",
     "output_type": "stream",
     "text": [
      "WARNING:tensorflow:sample_weight modes were coerced from\n",
      "  ...\n",
      "    to  \n",
      "  ['...']\n",
      "WARNING:tensorflow:sample_weight modes were coerced from\n",
      "  ...\n",
      "    to  \n",
      "  ['...']\n",
      "Train for 104.0 steps, validate for 26.0 steps\n",
      "Epoch 1/5\n",
      "104/104 [==============================] - 290s 3s/step - loss: 1167037966.7979 - accuracy: 0.5018 - val_loss: 246794318.7692 - val_accuracy: 0.0000e+00\n",
      "Epoch 2/5\n",
      "104/104 [==============================] - 302s 3s/step - loss: 26628495420.0364 - accuracy: 0.5064 - val_loss: 24828910985.8462 - val_accuracy: 1.0000\n",
      "Epoch 3/5\n",
      "104/104 [==============================] - 302s 3s/step - loss: 130734932957.9404 - accuracy: 0.5079 - val_loss: 37757608566.1538 - val_accuracy: 0.0000e+00\n",
      "Epoch 4/5\n",
      "104/104 [==============================] - 314s 3s/step - loss: 238956677773.3564 - accuracy: 0.4921 - val_loss: 359790946146.4615 - val_accuracy: 1.0000\n",
      "Epoch 5/5\n",
      "104/104 [==============================] - 311s 3s/step - loss: 376518199594.6128 - accuracy: 0.5057 - val_loss: 163924531357.5385 - val_accuracy: 0.0000e+00\n"
     ]
    },
    {
     "data": {
      "text/plain": [
       "<tensorflow.python.keras.callbacks.History at 0x7f6740502b50>"
      ]
     },
     "execution_count": 42,
     "metadata": {},
     "output_type": "execute_result"
    }
   ],
   "source": [
    "augmented_model.fit(\n",
    "        train_gen.flow(X_train, y_train, batch_size=BATCH_SIZE, subset='training'),\n",
    "        steps_per_epoch = (X_train.shape[0] * (1 - 0.2)) // BATCH_SIZE,\n",
    "        epochs=EPOCHS,\n",
    "        verbose=1,\n",
    "        validation_data=train_gen.flow(X_train, y_train, batch_size=BATCH_SIZE, subset='validation'),\n",
    "        validation_steps=(X_train.shape[0] * 0.2) // BATCH_SIZE\n",
    ")"
   ]
  },
  {
   "cell_type": "markdown",
   "metadata": {},
   "source": [
    "11. re-evaluate your classifier\n",
    "\n",
    "Now that you've augmented the data, please re-evaluate your classifer.  Use classification report like before."
   ]
  },
  {
   "cell_type": "code",
   "execution_count": 43,
   "metadata": {},
   "outputs": [
    {
     "name": "stdout",
     "output_type": "stream",
     "text": [
      "              precision    recall  f1-score   support\n",
      "\n",
      "           0       0.00      0.00      0.00       287\n",
      "           1       0.73      1.00      0.84       757\n",
      "\n",
      "    accuracy                           0.73      1044\n",
      "   macro avg       0.36      0.50      0.42      1044\n",
      "weighted avg       0.53      0.73      0.61      1044\n",
      "\n"
     ]
    },
    {
     "name": "stderr",
     "output_type": "stream",
     "text": [
      "/home/thomas/miniconda3/envs/deep-learning-spring-20/lib/python3.7/site-packages/sklearn/metrics/_classification.py:1272: UndefinedMetricWarning: Precision and F-score are ill-defined and being set to 0.0 in labels with no predicted samples. Use `zero_division` parameter to control this behavior.\n",
      "  _warn_prf(average, modifier, msg_start, len(result))\n"
     ]
    }
   ],
   "source": [
    "from sklearn.metrics import classification_report\n",
    "\n",
    "y_pred = augmented_model.predict_classes(X_test)\n",
    "print(classification_report(y_test, y_pred))"
   ]
  },
  {
   "cell_type": "markdown",
   "metadata": {},
   "source": [
    "12. Evaluate the difference with data augmentation and without:\n",
    "\n",
    "Did things improve?  Did they stay the same?  Did they get worse?  Please try to come up with an explanation of why you got the results you did."
   ]
  },
  {
   "cell_type": "markdown",
   "metadata": {},
   "source": [
    "### Explanation of results go here"
   ]
  },
  {
   "cell_type": "markdown",
   "metadata": {},
   "source": [
    "13. Getting COVID19 data\n",
    "\n",
    "Now that you have a trained classifier with pneumonia, we are going to use this with COVID data.  \n",
    "\n",
    "Clone this repo:\n",
    "\n",
    "https://github.com/ieee8023/covid-chestxray-dataset\n",
    "\n",
    "use the clone command: `git clone [REPO]`\n",
    "\n",
    "to get the data locally.  \n",
    "\n",
    "Make sure to run this command in the same folder as this jupyter notebook."
   ]
  },
  {
   "cell_type": "markdown",
   "metadata": {},
   "source": [
    "14. Read the data into memory\n",
    "\n",
    "The set up for this data repository is a little different.  Please use the following code to read the data into memory:"
   ]
  },
  {
   "cell_type": "code",
   "execution_count": 5,
   "metadata": {},
   "outputs": [],
   "source": [
    "import pandas as pd\n",
    "\n",
    "def get_covid19():\n",
    "    base = \"covid-chestxray-dataset/\"\n",
    "    metadata = pd.read_csv(base+\"metadata.csv\")\n",
    "    labels = []\n",
    "    image_paths = []\n",
    "    for index, row in metadata.iterrows():\n",
    "        labels.append(row[\"finding\"])\n",
    "        image_paths.append(base+row[\"filename\"])\n",
    "    return labels, image_paths\n",
    "\n",
    "labels, covid_image_paths = get_covid19()"
   ]
  },
  {
   "cell_type": "markdown",
   "metadata": {},
   "source": [
    "15. preprocess images\n",
    "\n",
    "you'll need to run the following functions on this data:\n",
    "\n",
    "1. load_images\n",
    "2. resize_images\n",
    "3. greyscale_images\n",
    "4. features_to_np_array\n",
    "5. labels_to_np_array\n",
    "\n",
    "Make sure to run each of those functions in order!"
   ]
  },
  {
   "cell_type": "code",
   "execution_count": 8,
   "metadata": {},
   "outputs": [],
   "source": [
    "# add your function calls to covid_image_paths here"
   ]
  },
  {
   "cell_type": "markdown",
   "metadata": {},
   "source": [
    "16. Strip out labels other than 'No Finding' and 'COVID-19' from the dataset\n",
    "\n",
    "There are two straight forward ways to do this:\n",
    "\n",
    "1) use a for-loop and keep track of indices\n",
    "\n",
    "2) read labels and features into a dataframe and then filter to those two label types.  Your choice!"
   ]
  },
  {
   "cell_type": "code",
   "execution_count": 9,
   "metadata": {},
   "outputs": [],
   "source": [
    "# label reduction code goes here"
   ]
  },
  {
   "cell_type": "markdown",
   "metadata": {},
   "source": [
    "17. Predict on the new images\n",
    "\n",
    "Here you'll use the classifier you trained on just pneumonia/not pneumonia to try and classify COVID-19 and no finding.  You'll use the pneumonia/not pneumonia classifier as a featurizer to do this.\n",
    "\n",
    "Much of the code has been written, you'll just need to supply your trained classifier as input.\n",
    "\n",
    "Please predict the labels from the classifier.  Then run `classification_report` to see how well your classifier did."
   ]
  },
  {
   "cell_type": "code",
   "execution_count": null,
   "metadata": {},
   "outputs": [],
   "source": [
    "#prediction code goes here\n",
    "\n",
    "import cv2\n",
    "import numpy as np\n",
    "from sklearn.linear_model import LogisticRegression\n",
    "from sklearn.metrics import classification_report\n",
    "import glob\n",
    "import code\n",
    "\n",
    "def extract_features_covid(model, width, height):\n",
    "    base = \"covid-chestxray-dataset/\"\n",
    "    metadata = pd.read_csv(base+\"metadata.csv\")\n",
    "    labels = []\n",
    "    image_paths = []\n",
    "    for index, row in metadata.iterrows():\n",
    "        if row[\"finding\"] == \"COVID-19\":\n",
    "            labels.append(\"COVID\")\n",
    "            image_paths.append(base+row[\"filename\"])\n",
    "            im = cv2.imread(im_path)\n",
    "            im = cv2.resize(im, (width, height))\n",
    "            features = model.predict(img)\n",
    "            features_np = np.array(features)\n",
    "            feature_list.append(features_np.flatten())\n",
    "\n",
    "    return np.array(feature_list), labels\n",
    "\n",
    "def extract_features_not_covid(model, width, height):\n",
    "    feature_list = []\n",
    "    labels = []\n",
    "    paths = [\n",
    "        \"chest_xray/test/NORMAL/*\",\n",
    "        \"chest_xray/test/PNEUMONIA/*\",\n",
    "        \"chest_xray/train/NORMAL/*\",\n",
    "        \"chest_xray/train/PNEUMONIA/*\"\n",
    "        \n",
    "    ]\n",
    "    for path in paths:\n",
    "        for im_path in glob.glob(path):\n",
    "            if path == \"chest_xray/train/NORMAL/*\":\n",
    "                labels.append(\"CLEAR TRAIN\")\n",
    "            if path == \"chest_xray/test/NORMAL/*\":\n",
    "                labels.append(\"CLEAR TEST\")\n",
    "            if path == \"chest_xray/train/PNEUMONIA/*\":\n",
    "                labels.append(\"PNEUMONIA\")\n",
    "            im = cv2.imread(im_path)\n",
    "            im = cv2.resize(im, (width, height))\n",
    "            features = model.predict(img)\n",
    "            features_np = np.array(features)\n",
    "            feature_list.append(features_np.flatten())\n",
    "\n",
    "    return np.array(feature_list), labels\n",
    "\n",
    "# please make a copy of your tuned model and save it to variable:\n",
    "# untuned_model = [YOUR MODEL NAME GOES HERE]\n",
    "\n",
    "# please specify the width and height you used for the image preprocessing\n",
    "# width = [YOUR WIDTH GOES HERE]\n",
    "# height = [YOUR HEIGHT GOES HERE]\n",
    "\n",
    "covid_features, covid_labels = extract_features_covid(untuned_model, width, height)\n",
    "non_covid_features, non_covid_labels = extract_features_not_covid(untuned_model, width, height)\n",
    "features = covid_features + non_covid_features\n",
    "labels = covid_labels + non_covid_labels\n",
    "X_train = []\n",
    "y_train = []\n",
    "X_test = []\n",
    "y_test = []\n",
    "for index, label in enumerate(labels):\n",
    "    if label == \"CLEAR TRAIN\":\n",
    "        X_train.append(features[index])\n",
    "        y_train.append(0)\n",
    "    if label == \"PNEUMONIA\":\n",
    "        X_train.append(features[index])\n",
    "        y_train.append(1)\n",
    "    if label == \"COVID\":\n",
    "        X_test.append(features[index])\n",
    "        y_test.append(1)\n",
    "    if label == \"CLEAR TEST\":\n",
    "        X_test.append(features[index])\n",
    "        y_test.append(0)\n",
    "\n",
    "logit_clf = LogisticRegression()\n",
    "logit_clf.fit(X_train, y_train)\n",
    "y_pred = logit_clf.predict(X_test)\n",
    "print(classification_report(y_test, y_pred))"
   ]
  },
  {
   "cell_type": "markdown",
   "metadata": {},
   "source": [
    "18. Compare and contrast how the classifier did on Pneumonia versus COVID-19\n",
    "\n",
    "Did it do as well?  Worse?  About the same?  What conclusions can you draw?"
   ]
  },
  {
   "cell_type": "markdown",
   "metadata": {},
   "source": [
    "### Add your answers here!"
   ]
  },
  {
   "cell_type": "markdown",
   "metadata": {},
   "source": [
    "Now that we've looked at a bunch of base cases, let's see if we can improve things by changing the model architecture.  We'll do this with a bunch of discrete steps\n",
    "\n",
    "1. Change the number of trainable layers\n",
    "\n",
    "Here you will make more of the layers trainable.  For this we are going to use cross validation to try and figure out which the optimal number of trainable layers.  Please us from the last 6 layers to one layer.  So your range should be:\n",
    "\n",
    "```\n",
    "trainable_range = [-6, -5, -4, -3, -2, -1]\n",
    "```\n",
    "\n",
    "Also, your X and y data should be the pneumonia data only.  Since that's what we trained on.  We should not assume we have access to the COVID data, except for testing, which will do later on.\n",
    "\n",
    "Here's a blog post detailing how to set this up: https://machinelearningmastery.com/grid-search-hyperparameters-deep-learning-models-python-keras/\n",
    "\n",
    "Note you'll need to set the number of trainable layers inside of `model_create` in order to make this tunable.  \n",
    "\n",
    "Please report mean and standard deviation for accuracy."
   ]
  },
  {
   "cell_type": "code",
   "execution_count": 12,
   "metadata": {},
   "outputs": [],
   "source": [
    "# Cross validation code goes here"
   ]
  },
  {
   "cell_type": "markdown",
   "metadata": {},
   "source": [
    "2. Analyze your results\n",
    "\n",
    "Do you think that changing the number of tunable layers matters?  Does it improve classification accuracy enough to warrant changing the number of tunable layers?  "
   ]
  },
  {
   "cell_type": "markdown",
   "metadata": {},
   "source": [
    "### Analysis and explanation go here"
   ]
  },
  {
   "cell_type": "markdown",
   "metadata": {},
   "source": [
    "2. Tune over a layer activation function\n",
    "\n",
    "Please set the number of tunable layers to 4 again.\n",
    "\n",
    "Now we are going to make the layer activation tunable.  \n",
    "\n",
    "To do this, please change the model_create function so that each layer has it's own tunable activation function.  Then run your new cross validation code."
   ]
  },
  {
   "cell_type": "code",
   "execution_count": 13,
   "metadata": {},
   "outputs": [],
   "source": [
    "# cross validation code goes here"
   ]
  },
  {
   "cell_type": "markdown",
   "metadata": {},
   "source": [
    "3. Analyze your results\n",
    "\n",
    "Does your choice of activation function matter?  When does the activation function perform best?  \n",
    "\n",
    "Things to consider:\n",
    "\n",
    "* Specifically does choosing the same activation function for all of the layers do best? \n",
    "* Does choosing different activation functions for each of the layers do best?\n",
    "* Are they all within the same approximate accuracy range?\n",
    "* do things vary wildly?"
   ]
  },
  {
   "cell_type": "markdown",
   "metadata": {},
   "source": [
    "### Analysis and explanation go here"
   ]
  },
  {
   "cell_type": "markdown",
   "metadata": {},
   "source": [
    "4. Tune over more hyperparameters\n",
    "\n",
    "Now that we've tuned the activation functions, let's try tuning more parameters.  This time add tuning for the following parameters:\n",
    "\n",
    "* number of neurons per layer\n",
    "* weight initialization\n",
    "* optimizer\n",
    "* weight constraint\n",
    "* activation function\n",
    "* learning rate\n",
    "\n",
    "Here is a great post on the range of values you should consider: https://www.wandb.com/articles/fundamentals-of-neural-networks\n",
    "\n",
    "Here is some code that is also useful: https://www.kaggle.com/lavanyashukla01/training-a-neural-network-start-here\n",
    "\n",
    "for understanding this practically."
   ]
  },
  {
   "cell_type": "code",
   "execution_count": 14,
   "metadata": {},
   "outputs": [],
   "source": [
    "# cross validation code goes here"
   ]
  },
  {
   "cell_type": "markdown",
   "metadata": {},
   "source": [
    "5. Tune over data augmentation\n",
    "\n",
    "Here you'll take the best hyperparameters from your neural network, with 4 trainable layers, and then add them to a pipeline.  We will then tune over data augmentation parameters.  Report out your mean and standard deviation of accuracy.\n",
    "\n",
    "Here we will create a scikit-learn pipline:\n",
    "\n",
    "https://scikit-learn.org/stable/modules/generated/sklearn.pipeline.Pipeline.html\n",
    "\n",
    "If you need an example with gridsearch and pipeline:\n",
    "\n",
    "https://scikit-learn.org/stable/tutorial/statistical_inference/putting_together.html\n",
    "\n",
    "As a reminder, here is the documentation for data augmentation:\n",
    "\n",
    "https://keras.io/preprocessing/image/"
   ]
  },
  {
   "cell_type": "code",
   "execution_count": null,
   "metadata": {},
   "outputs": [],
   "source": [
    "#cross validation code goes here"
   ]
  },
  {
   "cell_type": "markdown",
   "metadata": {},
   "source": [
    "6. Analyze your results\n",
    "\n",
    "Now that you've tuned over model parameters and preprocessing, what has a bigger impact?  Why do you think that might be the case?"
   ]
  },
  {
   "cell_type": "markdown",
   "metadata": {},
   "source": [
    "### Analysis and explanation goes here"
   ]
  },
  {
   "cell_type": "markdown",
   "metadata": {},
   "source": [
    "7. Using your best model and preprocessing to train a new model\n",
    "\n",
    "Now you should select the best hyperparameters for the neural network and the best hyperparameters for the preprocesser and then combine them into a scikit-learn pipeline.  Next train a classifier with these new tuned hyperparameters."
   ]
  },
  {
   "cell_type": "code",
   "execution_count": 15,
   "metadata": {},
   "outputs": [],
   "source": [
    "#classifer generation code goes here"
   ]
  },
  {
   "cell_type": "markdown",
   "metadata": {},
   "source": [
    "8. Let's see if things improved - time for `classification_report`\n",
    "\n",
    "Now that you've tuned your model, let's see how well it does on our test set!  First call predict on the test data to get a prediction.  Then use `classification_report` to see how well the model does."
   ]
  },
  {
   "cell_type": "code",
   "execution_count": 16,
   "metadata": {},
   "outputs": [],
   "source": [
    "# prediction code goes here"
   ]
  },
  {
   "cell_type": "markdown",
   "metadata": {},
   "source": [
    "9. Analsis and comparison\n",
    "\n",
    "Now that you've seen how well your classifier does when it's been tuned, compare this with your previous model, that was untuned.  Are the precision, recall and f1-scores substantially different?  Why or why not?"
   ]
  },
  {
   "cell_type": "markdown",
   "metadata": {},
   "source": [
    "### Analysis and explanation goes here"
   ]
  },
  {
   "cell_type": "markdown",
   "metadata": {},
   "source": [
    "10. Prediction on COVID binary classification task with tuned model\n",
    "\n",
    "Now you'll use your tuned classifier to try and predict on the binary COVID19 case.  Please change the model to your tuned model!"
   ]
  },
  {
   "cell_type": "code",
   "execution_count": null,
   "metadata": {},
   "outputs": [],
   "source": [
    "#prediction code goes here\n",
    "\n",
    "import cv2\n",
    "import numpy as np\n",
    "from sklearn.linear_model import LogisticRegression\n",
    "from sklearn.metrics import classification_report\n",
    "import glob\n",
    "import code\n",
    "\n",
    "def extract_features_covid(model, width, height):\n",
    "    base = \"covid-chestxray-dataset/\"\n",
    "    metadata = pd.read_csv(base+\"metadata.csv\")\n",
    "    labels = []\n",
    "    image_paths = []\n",
    "    for index, row in metadata.iterrows():\n",
    "        if row[\"finding\"] == \"COVID-19\":\n",
    "            labels.append(\"COVID\")\n",
    "            image_paths.append(base+row[\"filename\"])\n",
    "            im = cv2.imread(im_path)\n",
    "            im = cv2.resize(im, (width, height))\n",
    "            features = model.predict(img)\n",
    "            features_np = np.array(features)\n",
    "            feature_list.append(features_np.flatten())\n",
    "\n",
    "    return np.array(feature_list), labels\n",
    "\n",
    "def extract_features_not_covid(model, width, height):\n",
    "    feature_list = []\n",
    "    labels = []\n",
    "    paths = [\n",
    "        \"chest_xray/test/NORMAL/*\",\n",
    "        \"chest_xray/test/PNEUMONIA/*\",\n",
    "        \"chest_xray/train/NORMAL/*\",\n",
    "        \"chest_xray/train/PNEUMONIA/*\"\n",
    "        \n",
    "    ]\n",
    "    for path in paths:\n",
    "        for im_path in glob.glob(path):\n",
    "            if path == \"chest_xray/train/NORMAL/*\":\n",
    "                labels.append(\"CLEAR TRAIN\")\n",
    "            if path == \"chest_xray/test/NORMAL/*\":\n",
    "                labels.append(\"CLEAR TEST\")\n",
    "            if path == \"chest_xray/train/PNEUMONIA/*\":\n",
    "                labels.append(\"PNEUMONIA\")\n",
    "            im = cv2.imread(im_path)\n",
    "            im = cv2.resize(im, (width, height))\n",
    "            features = model.predict(img)\n",
    "            features_np = np.array(features)\n",
    "            feature_list.append(features_np.flatten())\n",
    "\n",
    "    return np.array(feature_list), labels\n",
    "\n",
    "# please make a copy of your tuned model and save it to variable:\n",
    "# tuned_model = [YOUR MODEL NAME GOES HERE]\n",
    "\n",
    "# please specify the width and height you used for the image preprocessing\n",
    "# width = [YOUR WIDTH GOES HERE]\n",
    "# height = [YOUR HEIGHT GOES HERE]\n",
    "\n",
    "covid_features, covid_labels = extract_features_covid(tuned_model, width, height)\n",
    "non_covid_features, non_covid_labels = extract_features_not_covid(tuned_model, width, height)\n",
    "features = covid_features + non_covid_features\n",
    "labels = covid_labels + non_covid_labels\n",
    "X_train = []\n",
    "y_train = []\n",
    "X_test = []\n",
    "y_test = []\n",
    "for index, label in enumerate(labels):\n",
    "    if label == \"CLEAR TRAIN\":\n",
    "        X_train.append(features[index])\n",
    "        y_train.append(0)\n",
    "    if label == \"PNEUMONIA\":\n",
    "        X_train.append(features[index])\n",
    "        y_train.append(1)\n",
    "    if label == \"COVID\":\n",
    "        X_test.append(features[index])\n",
    "        y_test.append(1)\n",
    "    if label == \"CLEAR TEST\":\n",
    "        X_test.append(features[index])\n",
    "        y_test.append(0)\n",
    "\n",
    "logit_clf = LogisticRegression()\n",
    "logit_clf.fit(X_train, y_train)\n",
    "y_pred = logit_clf.predict(X_test)\n",
    "print(classification_report(y_test, y_pred))"
   ]
  },
  {
   "cell_type": "markdown",
   "metadata": {},
   "source": [
    "11. Analyze your results\n",
    "\n",
    "Now that you've seen the results of your tuned model, compare those with the results of the untuned model.  Did things get better? Worse?  Why do you think this may or may not be the case?"
   ]
  },
  {
   "cell_type": "markdown",
   "metadata": {},
   "source": [
    "### Analysis of your results goes here"
   ]
  },
  {
   "cell_type": "code",
   "execution_count": null,
   "metadata": {},
   "outputs": [],
   "source": []
  }
 ],
 "metadata": {
  "kernelspec": {
   "display_name": "Python [conda env:deep-learning-spring-20] *",
   "language": "python",
   "name": "conda-env-deep-learning-spring-20-py"
  },
  "language_info": {
   "codemirror_mode": {
    "name": "ipython",
    "version": 3
   },
   "file_extension": ".py",
   "mimetype": "text/x-python",
   "name": "python",
   "nbconvert_exporter": "python",
   "pygments_lexer": "ipython3",
   "version": "3.7.7"
  }
 },
 "nbformat": 4,
 "nbformat_minor": 2
}
